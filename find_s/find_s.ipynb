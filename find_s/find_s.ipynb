{
 "cells": [
  {
   "cell_type": "code",
   "execution_count": 9,
   "id": "358a79a2-2bbc-4082-aea8-be9cc3818fcb",
   "metadata": {},
   "outputs": [],
   "source": [
    "import numpy as np\n",
    "import pandas as pd\n",
    "import warnings\n",
    "warnings.filterwarnings('ignore')"
   ]
  },
  {
   "cell_type": "code",
   "execution_count": 11,
   "id": "230bb9db-1d84-42d0-94f2-613834809b34",
   "metadata": {},
   "outputs": [
    {
     "data": {
      "text/html": [
       "<div>\n",
       "<style scoped>\n",
       "    .dataframe tbody tr th:only-of-type {\n",
       "        vertical-align: middle;\n",
       "    }\n",
       "\n",
       "    .dataframe tbody tr th {\n",
       "        vertical-align: top;\n",
       "    }\n",
       "\n",
       "    .dataframe thead th {\n",
       "        text-align: right;\n",
       "    }\n",
       "</style>\n",
       "<table border=\"1\" class=\"dataframe\">\n",
       "  <thead>\n",
       "    <tr style=\"text-align: right;\">\n",
       "      <th></th>\n",
       "      <th>Sky</th>\n",
       "      <th>AirTemp</th>\n",
       "      <th>Humidity</th>\n",
       "      <th>Wind</th>\n",
       "      <th>Water</th>\n",
       "      <th>Forecast</th>\n",
       "      <th>EnjoySport</th>\n",
       "    </tr>\n",
       "  </thead>\n",
       "  <tbody>\n",
       "    <tr>\n",
       "      <th>0</th>\n",
       "      <td>Sunny</td>\n",
       "      <td>Warm</td>\n",
       "      <td>Normal</td>\n",
       "      <td>Strong</td>\n",
       "      <td>Warm</td>\n",
       "      <td>Same</td>\n",
       "      <td>1</td>\n",
       "    </tr>\n",
       "    <tr>\n",
       "      <th>1</th>\n",
       "      <td>Sunny</td>\n",
       "      <td>Warm</td>\n",
       "      <td>High</td>\n",
       "      <td>Strong</td>\n",
       "      <td>Warm</td>\n",
       "      <td>Same</td>\n",
       "      <td>1</td>\n",
       "    </tr>\n",
       "    <tr>\n",
       "      <th>2</th>\n",
       "      <td>Rainy</td>\n",
       "      <td>Cold</td>\n",
       "      <td>High</td>\n",
       "      <td>Strong</td>\n",
       "      <td>Warm</td>\n",
       "      <td>Change</td>\n",
       "      <td>0</td>\n",
       "    </tr>\n",
       "    <tr>\n",
       "      <th>3</th>\n",
       "      <td>Sunny</td>\n",
       "      <td>Warm</td>\n",
       "      <td>High</td>\n",
       "      <td>Strong</td>\n",
       "      <td>Cool</td>\n",
       "      <td>Change</td>\n",
       "      <td>1</td>\n",
       "    </tr>\n",
       "  </tbody>\n",
       "</table>\n",
       "</div>"
      ],
      "text/plain": [
       "     Sky AirTemp Humidity    Wind Water Forecast  EnjoySport\n",
       "0  Sunny    Warm   Normal  Strong  Warm     Same           1\n",
       "1  Sunny    Warm     High  Strong  Warm     Same           1\n",
       "2  Rainy    Cold     High  Strong  Warm   Change           0\n",
       "3  Sunny    Warm     High  Strong  Cool   Change           1"
      ]
     },
     "execution_count": 11,
     "metadata": {},
     "output_type": "execute_result"
    }
   ],
   "source": [
    "df=pd.read_csv(\"ENJOYSPORT.csv\")\n",
    "df"
   ]
  },
  {
   "cell_type": "code",
   "execution_count": 13,
   "id": "4eb67daf-243d-44c4-89b7-b80456464b5b",
   "metadata": {},
   "outputs": [
    {
     "data": {
      "text/plain": [
       "array([['Sunny', 'Warm', 'Normal', 'Strong', 'Warm', 'Same', 1],\n",
       "       ['Sunny', 'Warm', 'High', 'Strong', 'Warm', 'Same', 1],\n",
       "       ['Rainy', 'Cold', 'High', 'Strong', 'Warm', 'Change', 0],\n",
       "       ['Sunny', 'Warm', 'High', 'Strong', 'Cool', 'Change', 1]],\n",
       "      dtype=object)"
      ]
     },
     "execution_count": 13,
     "metadata": {},
     "output_type": "execute_result"
    }
   ],
   "source": [
    "concept1=np.array(df)\n",
    "concept1"
   ]
  },
  {
   "cell_type": "code",
   "execution_count": 15,
   "id": "f7fb0cb1-18a0-4f6e-b000-f8a099f3fca9",
   "metadata": {},
   "outputs": [],
   "source": [
    "def find_s(concept):\n",
    "    h0 = np.array([None] * (concept.shape[1] - 1), dtype=object)\n",
    "    for c in concept:\n",
    "        if c[-1] == 1:  \n",
    "            for i in range(len(h0)):\n",
    "                if h0[i] is None:\n",
    "                    h0[i] = c[i]\n",
    "                elif h0[i] != c[i]:\n",
    "                    h0[i] = '?'\n",
    "    return h0"
   ]
  },
  {
   "cell_type": "code",
   "execution_count": 17,
   "id": "2f25ca53-c568-4126-a5aa-860917af8d0f",
   "metadata": {},
   "outputs": [
    {
     "name": "stdout",
     "output_type": "stream",
     "text": [
      "['Sunny' 'Warm' '?' 'Strong' '?' '?']\n"
     ]
    }
   ],
   "source": [
    "h1 = find_s(concept1)\n",
    "print(h1)"
   ]
  },
  {
   "cell_type": "code",
   "execution_count": 19,
   "id": "20959d9e-7b4c-4596-b0cc-f1addf08ce26",
   "metadata": {},
   "outputs": [
    {
     "data": {
      "text/html": [
       "<div>\n",
       "<style scoped>\n",
       "    .dataframe tbody tr th:only-of-type {\n",
       "        vertical-align: middle;\n",
       "    }\n",
       "\n",
       "    .dataframe tbody tr th {\n",
       "        vertical-align: top;\n",
       "    }\n",
       "\n",
       "    .dataframe thead th {\n",
       "        text-align: right;\n",
       "    }\n",
       "</style>\n",
       "<table border=\"1\" class=\"dataframe\">\n",
       "  <thead>\n",
       "    <tr style=\"text-align: right;\">\n",
       "      <th></th>\n",
       "      <th>colour</th>\n",
       "      <th>Toughness</th>\n",
       "      <th>Fungus</th>\n",
       "      <th>Appearance</th>\n",
       "      <th>Poisonous</th>\n",
       "    </tr>\n",
       "  </thead>\n",
       "  <tbody>\n",
       "    <tr>\n",
       "      <th>0</th>\n",
       "      <td>Green</td>\n",
       "      <td>Hard</td>\n",
       "      <td>No</td>\n",
       "      <td>wrinkled</td>\n",
       "      <td>1</td>\n",
       "    </tr>\n",
       "    <tr>\n",
       "      <th>1</th>\n",
       "      <td>Green</td>\n",
       "      <td>Hard</td>\n",
       "      <td>yes</td>\n",
       "      <td>smooth</td>\n",
       "      <td>0</td>\n",
       "    </tr>\n",
       "    <tr>\n",
       "      <th>2</th>\n",
       "      <td>Brown</td>\n",
       "      <td>soft</td>\n",
       "      <td>No</td>\n",
       "      <td>wrinkled</td>\n",
       "      <td>0</td>\n",
       "    </tr>\n",
       "    <tr>\n",
       "      <th>3</th>\n",
       "      <td>Orange</td>\n",
       "      <td>Hard</td>\n",
       "      <td>No</td>\n",
       "      <td>wrinkled</td>\n",
       "      <td>1</td>\n",
       "    </tr>\n",
       "    <tr>\n",
       "      <th>4</th>\n",
       "      <td>Green</td>\n",
       "      <td>soft</td>\n",
       "      <td>yes</td>\n",
       "      <td>smooth</td>\n",
       "      <td>1</td>\n",
       "    </tr>\n",
       "    <tr>\n",
       "      <th>5</th>\n",
       "      <td>Green</td>\n",
       "      <td>Hard</td>\n",
       "      <td>yes</td>\n",
       "      <td>wrinkled</td>\n",
       "      <td>1</td>\n",
       "    </tr>\n",
       "    <tr>\n",
       "      <th>6</th>\n",
       "      <td>Orange</td>\n",
       "      <td>Hard</td>\n",
       "      <td>No</td>\n",
       "      <td>wrinkled</td>\n",
       "      <td>1</td>\n",
       "    </tr>\n",
       "  </tbody>\n",
       "</table>\n",
       "</div>"
      ],
      "text/plain": [
       "   colour Toughness Fungus Appearance  Poisonous\n",
       "0   Green      Hard     No   wrinkled          1\n",
       "1   Green      Hard    yes     smooth          0\n",
       "2   Brown      soft     No   wrinkled          0\n",
       "3  Orange      Hard     No   wrinkled          1\n",
       "4   Green      soft    yes     smooth          1\n",
       "5   Green      Hard    yes   wrinkled          1\n",
       "6  Orange      Hard     No   wrinkled          1"
      ]
     },
     "execution_count": 19,
     "metadata": {},
     "output_type": "execute_result"
    }
   ],
   "source": [
    "df=pd.read_csv(\"disease.csv\")\n",
    "df"
   ]
  },
  {
   "cell_type": "code",
   "execution_count": 21,
   "id": "f62168f3-4233-465f-84ce-91a01117b0ae",
   "metadata": {},
   "outputs": [
    {
     "data": {
      "text/plain": [
       "array([['Green', 'Hard', 'No', 'wrinkled', 1],\n",
       "       ['Green', 'Hard', 'yes', 'smooth', 0],\n",
       "       ['Brown', 'soft', 'No', 'wrinkled', 0],\n",
       "       ['Orange', 'Hard', 'No', 'wrinkled', 1],\n",
       "       ['Green', 'soft', 'yes', 'smooth', 1],\n",
       "       ['Green', 'Hard', 'yes', 'wrinkled', 1],\n",
       "       ['Orange', 'Hard', 'No', 'wrinkled', 1]], dtype=object)"
      ]
     },
     "execution_count": 21,
     "metadata": {},
     "output_type": "execute_result"
    }
   ],
   "source": [
    "concept2=np.array(df)\n",
    "concept2"
   ]
  },
  {
   "cell_type": "code",
   "execution_count": 23,
   "id": "340af1ce-f226-4a12-be84-9d9ce594a988",
   "metadata": {},
   "outputs": [
    {
     "name": "stdout",
     "output_type": "stream",
     "text": [
      "['?' '?' '?' '?']\n"
     ]
    }
   ],
   "source": [
    "h2 = find_s(concept2)\n",
    "print(h2)"
   ]
  },
  {
   "cell_type": "code",
   "execution_count": 31,
   "id": "8eefbd88-22dd-4a2b-8d5b-bf7a61d914e7",
   "metadata": {},
   "outputs": [
    {
     "data": {
      "text/html": [
       "<div>\n",
       "<style scoped>\n",
       "    .dataframe tbody tr th:only-of-type {\n",
       "        vertical-align: middle;\n",
       "    }\n",
       "\n",
       "    .dataframe tbody tr th {\n",
       "        vertical-align: top;\n",
       "    }\n",
       "\n",
       "    .dataframe thead th {\n",
       "        text-align: right;\n",
       "    }\n",
       "</style>\n",
       "<table border=\"1\" class=\"dataframe\">\n",
       "  <thead>\n",
       "    <tr style=\"text-align: right;\">\n",
       "      <th></th>\n",
       "      <th>EXAMPLE</th>\n",
       "      <th>COLOUR</th>\n",
       "      <th>HEIGHT</th>\n",
       "      <th>WIDTH</th>\n",
       "      <th>CLASS</th>\n",
       "    </tr>\n",
       "  </thead>\n",
       "  <tbody>\n",
       "    <tr>\n",
       "      <th>0</th>\n",
       "      <td>A</td>\n",
       "      <td>RED</td>\n",
       "      <td>SHORT</td>\n",
       "      <td>THIN</td>\n",
       "      <td>0</td>\n",
       "    </tr>\n",
       "    <tr>\n",
       "      <th>1</th>\n",
       "      <td>B</td>\n",
       "      <td>BLUE</td>\n",
       "      <td>TALL</td>\n",
       "      <td>FAT</td>\n",
       "      <td>1</td>\n",
       "    </tr>\n",
       "    <tr>\n",
       "      <th>2</th>\n",
       "      <td>C</td>\n",
       "      <td>GREEN</td>\n",
       "      <td>SHORT</td>\n",
       "      <td>FAT</td>\n",
       "      <td>0</td>\n",
       "    </tr>\n",
       "    <tr>\n",
       "      <th>3</th>\n",
       "      <td>D</td>\n",
       "      <td>GREEN</td>\n",
       "      <td>TALL</td>\n",
       "      <td>THIN</td>\n",
       "      <td>1</td>\n",
       "    </tr>\n",
       "    <tr>\n",
       "      <th>4</th>\n",
       "      <td>E</td>\n",
       "      <td>BLUE</td>\n",
       "      <td>SHORT</td>\n",
       "      <td>THIN</td>\n",
       "      <td>0</td>\n",
       "    </tr>\n",
       "  </tbody>\n",
       "</table>\n",
       "</div>"
      ],
      "text/plain": [
       "  EXAMPLE COLOUR HEIGHT WIDTH  CLASS\n",
       "0       A    RED  SHORT  THIN      0\n",
       "1       B   BLUE   TALL   FAT      1\n",
       "2       C  GREEN  SHORT   FAT      0\n",
       "3       D  GREEN   TALL  THIN      1\n",
       "4       E   BLUE  SHORT  THIN      0"
      ]
     },
     "execution_count": 31,
     "metadata": {},
     "output_type": "execute_result"
    }
   ],
   "source": [
    "df=pd.read_csv(\"dataset.csv\")\n",
    "df"
   ]
  },
  {
   "cell_type": "code",
   "execution_count": 33,
   "id": "b9a47e53-7c0d-4643-8082-b40cdf5b1c2d",
   "metadata": {},
   "outputs": [
    {
     "data": {
      "text/plain": [
       "array([['A', 'RED', 'SHORT', 'THIN', 0],\n",
       "       ['B', 'BLUE', 'TALL', 'FAT', 1],\n",
       "       ['C', 'GREEN', 'SHORT', 'FAT', 0],\n",
       "       ['D', 'GREEN', 'TALL', 'THIN', 1],\n",
       "       ['E', 'BLUE', 'SHORT', 'THIN', 0]], dtype=object)"
      ]
     },
     "execution_count": 33,
     "metadata": {},
     "output_type": "execute_result"
    }
   ],
   "source": [
    "concept3=np.array(df)\n",
    "concept3"
   ]
  },
  {
   "cell_type": "code",
   "execution_count": 35,
   "id": "f5ebfd76-f16f-40ff-bbb7-91e5c387a041",
   "metadata": {},
   "outputs": [
    {
     "name": "stdout",
     "output_type": "stream",
     "text": [
      "['?' '?' 'TALL' '?']\n"
     ]
    }
   ],
   "source": [
    "h3=find_s(concept3)\n",
    "print(h3)"
   ]
  },
  {
   "cell_type": "code",
   "execution_count": null,
   "id": "bfb54ab5-edc6-442d-9070-089376eef417",
   "metadata": {},
   "outputs": [],
   "source": []
  }
 ],
 "metadata": {
  "kernelspec": {
   "display_name": "Python 3 (ipykernel)",
   "language": "python",
   "name": "python3"
  },
  "language_info": {
   "codemirror_mode": {
    "name": "ipython",
    "version": 3
   },
   "file_extension": ".py",
   "mimetype": "text/x-python",
   "name": "python",
   "nbconvert_exporter": "python",
   "pygments_lexer": "ipython3",
   "version": "3.12.4"
  }
 },
 "nbformat": 4,
 "nbformat_minor": 5
}
