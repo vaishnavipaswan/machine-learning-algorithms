{
 "cells": [
  {
   "cell_type": "code",
   "execution_count": 116,
   "id": "a41ef595-a1ec-486f-9f2f-c4815442d40c",
   "metadata": {},
   "outputs": [],
   "source": [
    "import pandas as pd\n",
    "import numpy as np\n",
    "import matplotlib.pyplot as plt\n",
    "from sklearn.model_selection import train_test_split"
   ]
  },
  {
   "cell_type": "code",
   "execution_count": 118,
   "id": "b21dfec0-cae5-43f3-b85e-39c9c2b259c3",
   "metadata": {},
   "outputs": [],
   "source": [
    "df=pd.read_csv(\"knn_dataset.csv\")"
   ]
  },
  {
   "cell_type": "code",
   "execution_count": 120,
   "id": "1e3a14ed-e2d6-4ec5-8abf-9a9439e69589",
   "metadata": {},
   "outputs": [
    {
     "data": {
      "text/html": [
       "<div>\n",
       "<style scoped>\n",
       "    .dataframe tbody tr th:only-of-type {\n",
       "        vertical-align: middle;\n",
       "    }\n",
       "\n",
       "    .dataframe tbody tr th {\n",
       "        vertical-align: top;\n",
       "    }\n",
       "\n",
       "    .dataframe thead th {\n",
       "        text-align: right;\n",
       "    }\n",
       "</style>\n",
       "<table border=\"1\" class=\"dataframe\">\n",
       "  <thead>\n",
       "    <tr style=\"text-align: right;\">\n",
       "      <th></th>\n",
       "      <th>Length</th>\n",
       "      <th>Weight</th>\n",
       "      <th>Cost</th>\n",
       "    </tr>\n",
       "  </thead>\n",
       "  <tbody>\n",
       "    <tr>\n",
       "      <th>0</th>\n",
       "      <td>10</td>\n",
       "      <td>15</td>\n",
       "      <td>45</td>\n",
       "    </tr>\n",
       "    <tr>\n",
       "      <th>1</th>\n",
       "      <td>11</td>\n",
       "      <td>6</td>\n",
       "      <td>37</td>\n",
       "    </tr>\n",
       "    <tr>\n",
       "      <th>2</th>\n",
       "      <td>12</td>\n",
       "      <td>14</td>\n",
       "      <td>48</td>\n",
       "    </tr>\n",
       "    <tr>\n",
       "      <th>3</th>\n",
       "      <td>7</td>\n",
       "      <td>9</td>\n",
       "      <td>33</td>\n",
       "    </tr>\n",
       "    <tr>\n",
       "      <th>4</th>\n",
       "      <td>9</td>\n",
       "      <td>14</td>\n",
       "      <td>38</td>\n",
       "    </tr>\n",
       "    <tr>\n",
       "      <th>5</th>\n",
       "      <td>8</td>\n",
       "      <td>12</td>\n",
       "      <td>40</td>\n",
       "    </tr>\n",
       "    <tr>\n",
       "      <th>6</th>\n",
       "      <td>6</td>\n",
       "      <td>11</td>\n",
       "      <td>35</td>\n",
       "    </tr>\n",
       "    <tr>\n",
       "      <th>7</th>\n",
       "      <td>15</td>\n",
       "      <td>10</td>\n",
       "      <td>50</td>\n",
       "    </tr>\n",
       "    <tr>\n",
       "      <th>8</th>\n",
       "      <td>14</td>\n",
       "      <td>8</td>\n",
       "      <td>46</td>\n",
       "    </tr>\n",
       "    <tr>\n",
       "      <th>9</th>\n",
       "      <td>7</td>\n",
       "      <td>12</td>\n",
       "      <td>35</td>\n",
       "    </tr>\n",
       "    <tr>\n",
       "      <th>10</th>\n",
       "      <td>10</td>\n",
       "      <td>6</td>\n",
       "      <td>36</td>\n",
       "    </tr>\n",
       "    <tr>\n",
       "      <th>11</th>\n",
       "      <td>13</td>\n",
       "      <td>8</td>\n",
       "      <td>44</td>\n",
       "    </tr>\n",
       "    <tr>\n",
       "      <th>12</th>\n",
       "      <td>9</td>\n",
       "      <td>7</td>\n",
       "      <td>32</td>\n",
       "    </tr>\n",
       "    <tr>\n",
       "      <th>13</th>\n",
       "      <td>5</td>\n",
       "      <td>8</td>\n",
       "      <td>30</td>\n",
       "    </tr>\n",
       "    <tr>\n",
       "      <th>14</th>\n",
       "      <td>5</td>\n",
       "      <td>10</td>\n",
       "      <td>30</td>\n",
       "    </tr>\n",
       "  </tbody>\n",
       "</table>\n",
       "</div>"
      ],
      "text/plain": [
       "    Length  Weight  Cost\n",
       "0       10      15    45\n",
       "1       11       6    37\n",
       "2       12      14    48\n",
       "3        7       9    33\n",
       "4        9      14    38\n",
       "5        8      12    40\n",
       "6        6      11    35\n",
       "7       15      10    50\n",
       "8       14       8    46\n",
       "9        7      12    35\n",
       "10      10       6    36\n",
       "11      13       8    44\n",
       "12       9       7    32\n",
       "13       5       8    30\n",
       "14       5      10    30"
      ]
     },
     "execution_count": 120,
     "metadata": {},
     "output_type": "execute_result"
    }
   ],
   "source": [
    "df"
   ]
  },
  {
   "cell_type": "code",
   "execution_count": 122,
   "id": "a44b4686-b459-4a4b-a24a-2a5b727af2d7",
   "metadata": {},
   "outputs": [],
   "source": [
    "X = df[['Length', 'Weight']]\n",
    "y = df['Cost']"
   ]
  },
  {
   "cell_type": "code",
   "execution_count": 124,
   "id": "952d2cdc-81b9-415b-878a-7e32e385c067",
   "metadata": {},
   "outputs": [],
   "source": [
    "X_train, X_test, y_train, y_test = train_test_split(X, y, test_size=0.2, random_state=42)"
   ]
  },
  {
   "cell_type": "code",
   "execution_count": 126,
   "id": "f6f19319-96f4-4e6e-8963-8ca0156694ad",
   "metadata": {},
   "outputs": [],
   "source": [
    "def euclidean_distance(x1, x2):\n",
    "    return np.sqrt(np.sum((x1 - x2)**2))"
   ]
  },
  {
   "cell_type": "code",
   "execution_count": 128,
   "id": "a9e6329f-bb53-456b-8a8b-813f7c2f5104",
   "metadata": {},
   "outputs": [],
   "source": [
    "def knn_regression(X_train, y_train, X_test, k):\n",
    "    y_pred = []\n",
    "    for test_point in X_test:\n",
    "        distances = [euclidean_distance(test_point, train_point) for train_point in X_train]\n",
    "        k_neighbors_indices = np.argsort(distances)[:k]\n",
    "        k_neighbors_targets = [y_train[i] for i in k_neighbors_indices]\n",
    "        y_pred.append(np.mean(k_neighbors_targets))\n",
    "    return np.array(y_pred)"
   ]
  },
  {
   "cell_type": "code",
   "execution_count": 130,
   "id": "9afc6bea-c523-4220-b171-ed596ebbc47b",
   "metadata": {},
   "outputs": [],
   "source": [
    "new_data_point = np.array([7, 8])"
   ]
  },
  {
   "cell_type": "code",
   "execution_count": 149,
   "id": "c145b3c9-5cc6-4ff4-b6e2-479b4478b494",
   "metadata": {},
   "outputs": [
    {
     "name": "stdout",
     "output_type": "stream",
     "text": [
      "Predicted Cost for Length=7 and Weight=8: 31.67\n"
     ]
    }
   ],
   "source": [
    "k = 3\n",
    "predicted_cost = knn_regression_single(X_train.to_numpy(), y_train.to_numpy(), new_data_point, k)\n",
    "print(f\"Predicted Cost for Length=7 and Weight=8: {predicted_cost:.2f}\")"
   ]
  },
  {
   "cell_type": "code",
   "execution_count": 151,
   "id": "325913cc-8718-4420-8470-f4f07ead1d26",
   "metadata": {},
   "outputs": [
    {
     "data": {
      "image/png": "[encoded data removed]",
      "text/plain": [
       "<Figure size 640x480 with 1 Axes>"
      ]
     },
     "metadata": {},
     "output_type": "display_data"
    }
   ],
   "source": [
    "plt.scatter(X_test['Length'], y_test, color='blue', label='Actual')\n",
    "plt.scatter(X_test['Length'], y_pred, color='red', label='Predicted')\n",
    "plt.scatter(new_data_point[0], predicted_cost, color='green', marker='o', s=40, label='New Data Point (7, 8)')\n",
    "plt.xlabel('Length')\n",
    "plt.ylabel('Cost')\n",
    "plt.title('KNN Regression')\n",
    "plt.legend()\n",
    "plt.show()"
   ]
  },
  {
   "cell_type": "code",
   "execution_count": null,
   "id": "05f28669-52ce-4a5c-9976-35a8fa0ad0f4",
   "metadata": {},
   "outputs": [],
   "source": []
  }
 ],
 "metadata": {
  "kernelspec": {
   "display_name": "Python 3 (ipykernel)",
   "language": "python",
   "name": "python3"
  },
  "language_info": {
   "codemirror_mode": {
    "name": "ipython",
    "version": 3
   },
   "file_extension": ".py",
   "mimetype": "text/x-python",
   "name": "python",
   "nbconvert_exporter": "python",
   "pygments_lexer": "ipython3",
   "version": "3.12.4"
  }
 },
 "nbformat": 4,
 "nbformat_minor": 5
}
