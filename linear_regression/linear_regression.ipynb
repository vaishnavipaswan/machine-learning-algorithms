{
 "cells": [
  {
   "cell_type": "code",
   "execution_count": 61,
   "id": "88129810-8d11-44da-beda-7c2c0b53dc2d",
   "metadata": {},
   "outputs": [],
   "source": [
    "import numpy as np\n",
    "import matplotlib.pyplot as plt\n",
    "import pandas as pd\n",
    "from sklearn.linear_model import LinearRegression"
   ]
  },
  {
   "cell_type": "code",
   "execution_count": 11,
   "id": "d3ad3ef0-6dea-492c-82f0-55a964d5b644",
   "metadata": {},
   "outputs": [
    {
     "data": {
      "text/plain": [
       "array([[5. ],\n",
       "       [5.1],\n",
       "       [5.2],\n",
       "       [5.3],\n",
       "       [5.4],\n",
       "       [5.5],\n",
       "       [5.6],\n",
       "       [5.7],\n",
       "       [5.8]])"
      ]
     },
     "execution_count": 11,
     "metadata": {},
     "output_type": "execute_result"
    }
   ],
   "source": [
    "heights=np.array([5.0,5.1,5.2,5.3,5.4,5.5,5.6,5.7,5.8]).reshape(-1,1)\n",
    "heights"
   ]
  },
  {
   "cell_type": "code",
   "execution_count": 32,
   "id": "4e09df8f-e5b7-4fbd-bd8d-762b803d5941",
   "metadata": {},
   "outputs": [
    {
     "data": {
      "text/plain": [
       "array([53, 55, 59, 61, 65, 68, 70, 74, 76])"
      ]
     },
     "execution_count": 32,
     "metadata": {},
     "output_type": "execute_result"
    }
   ],
   "source": [
    "weights=np.array([53,55,59,61,65,68,70,74,76])\n",
    "weights"
   ]
  },
  {
   "cell_type": "code",
   "execution_count": 33,
   "id": "6fcc2ffe-6429-41e0-855d-addc10251616",
   "metadata": {},
   "outputs": [],
   "source": [
    "model=LinearRegression()\n",
    "model.fit(heights,weights)\n",
    "predicted_weights=model.predict(heights)"
   ]
  },
  {
   "cell_type": "code",
   "execution_count": 34,
   "id": "253e46b8-1448-4138-989d-5551ee2e40ac",
   "metadata": {},
   "outputs": [
    {
     "data": {
      "text/plain": [
       "array([52.68888889, 55.65555556, 58.62222222, 61.58888889, 64.55555556,\n",
       "       67.52222222, 70.48888889, 73.45555556, 76.42222222])"
      ]
     },
     "execution_count": 34,
     "metadata": {},
     "output_type": "execute_result"
    }
   ],
   "source": [
    "predicted_weights"
   ]
  },
  {
   "cell_type": "code",
   "execution_count": 50,
   "id": "c2806653-80ad-4068-9eed-2c9774e3da9e",
   "metadata": {},
   "outputs": [
    {
     "name": "stdout",
     "output_type": "stream",
     "text": [
      "Intercept (w0): -95.6444444444444\n",
      "Slope (w1): 29.666666666666657\n",
      "Predicted weight for height 5.9 cm: 79.38888888888887 kg\n"
     ]
    }
   ],
   "source": [
    "w0 =model.intercept_\n",
    "w1=model.coef_[0]\n",
    "print(f\"Intercept (w0): {w0}\")\n",
    "print(f\"Slope (w1): {w1}\")\n",
    "height=5.9\n",
    "predicted_weight = model.predict(np.array([[height]]))[0]\n",
    "print(f\"Predicted weight for height {height} cm: {predicted_weight} kg\")"
   ]
  },
  {
   "cell_type": "code",
   "execution_count": 51,
   "id": "30bfd02d-d0cf-4a2e-bc13-f1bd0e67370d",
   "metadata": {},
   "outputs": [],
   "source": [
    "def mean_absolute_error(weights,predicted_weights):\n",
    "    n=len(predicted_weights)\n",
    "    sum = 0\n",
    "    for i in range(n):\n",
    "        sum += abs(weights[i] - predicted_weights[i])\n",
    "    error = sum/n\n",
    "    print(\"Mean absolute error : \" + str(error))"
   ]
  },
  {
   "cell_type": "code",
   "execution_count": 52,
   "id": "cb1e5fb4-df5a-4f17-9e13-5501400f7859",
   "metadata": {},
   "outputs": [
    {
     "name": "stdout",
     "output_type": "stream",
     "text": [
      "Mean absolute error : 0.47901234567900985\n"
     ]
    }
   ],
   "source": [
    "mae = mean_absolute_error(weights, predicted_weights) "
   ]
  },
  {
   "cell_type": "code",
   "execution_count": 55,
   "id": "d5ac4b63-ccd9-4931-9696-17d10f8a4b77",
   "metadata": {},
   "outputs": [],
   "source": [
    "def mean_squared_error(weights,predicted_weights):\n",
    "    n=len(predicted_weights)\n",
    "    sum=0\n",
    "    for i in range(n):\n",
    "        sum+=(weights[i]-predicted_weights[i])**2\n",
    "    error=sum/n\n",
    "    print(\"Mean Square Error: \"+str(error))"
   ]
  },
  {
   "cell_type": "code",
   "execution_count": 56,
   "id": "43760c26-738b-414e-a0f0-844ff7c5e411",
   "metadata": {},
   "outputs": [
    {
     "name": "stdout",
     "output_type": "stream",
     "text": [
      "Mean Square Error: 0.23950617283950384\n"
     ]
    }
   ],
   "source": [
    "mse=mean_squared_error(weights,predicted_weights)"
   ]
  },
  {
   "cell_type": "code",
   "execution_count": 58,
   "id": "013483f5-867c-4329-99fe-a0abe61677ca",
   "metadata": {},
   "outputs": [
    {
     "data": {
      "image/png": "[encoded data removed]",
      "text/plain": [
       "<Figure size 640x480 with 1 Axes>"
      ]
     },
     "metadata": {},
     "output_type": "display_data"
    }
   ],
   "source": [
    "plt.scatter(heights,weights,color='blue')\n",
    "plt.plot(heights,predicted_weights,color='red')\n",
    "plt.xlabel('Height (cm)')\n",
    "plt.ylabel('Weight (kg)')\n",
    "plt.title('Height vs Weight Regression')\n",
    "plt.show()"
   ]
  }
 ],
 "metadata": {
  "kernelspec": {
   "display_name": "Python 3 (ipykernel)",
   "language": "python",
   "name": "python3"
  },
  "language_info": {
   "codemirror_mode": {
    "name": "ipython",
    "version": 3
   },
   "file_extension": ".py",
   "mimetype": "text/x-python",
   "name": "python",
   "nbconvert_exporter": "python",
   "pygments_lexer": "ipython3",
   "version": "3.12.4"
  }
 },
 "nbformat": 4,
 "nbformat_minor": 5
}
