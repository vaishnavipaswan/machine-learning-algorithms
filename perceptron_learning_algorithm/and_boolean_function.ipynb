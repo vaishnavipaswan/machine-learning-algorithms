{
 "cells": [
  {
   "cell_type": "code",
   "execution_count": 109,
   "id": "30b2ab8e-a0d6-48d1-8e47-2b6832e92218",
   "metadata": {},
   "outputs": [],
   "source": [
    "import numpy as np"
   ]
  },
  {
   "cell_type": "code",
   "execution_count": 111,
   "id": "d2fe5e5f-3ca7-4a1b-9345-d36ace1263b7",
   "metadata": {},
   "outputs": [],
   "source": [
    "w0=1\n",
    "w1=0\n",
    "w2=0"
   ]
  },
  {
   "cell_type": "code",
   "execution_count": 113,
   "id": "5f97fd2a-8edb-4821-8ba6-9b6545621d40",
   "metadata": {},
   "outputs": [],
   "source": [
    "learning_rate = 1\n",
    "epochs = 10"
   ]
  },
  {
   "cell_type": "code",
   "execution_count": 115,
   "id": "62e36207-c16d-4b93-89e2-e7efd83dc20b",
   "metadata": {},
   "outputs": [],
   "source": [
    "def activation(x):\n",
    "    return 1 if x >= 0 else 0 #STEP FUNCTION"
   ]
  },
  {
   "cell_type": "code",
   "execution_count": 117,
   "id": "fb0d88ec-cada-4542-bca0-f0e5c0b64bc8",
   "metadata": {},
   "outputs": [],
   "source": [
    "def predict(inputs):\n",
    "    return activation((w1 * inputs[0]) + (w2 * inputs[1]) + w0)"
   ]
  },
  {
   "cell_type": "code",
   "execution_count": 119,
   "id": "86b112af-fdc9-448c-947d-726fb648e7ae",
   "metadata": {},
   "outputs": [],
   "source": [
    "def train(training_data, labels):\n",
    "    global w0, w1, w2\n",
    "    for _ in range(epochs):\n",
    "        for inputs, label in zip(training_data, labels):\n",
    "            prediction = predict(inputs)\n",
    "            w0 += learning_rate * (label - prediction)\n",
    "            w1 += learning_rate * (label - prediction) * inputs[0]\n",
    "            w2 += learning_rate * (label - prediction) * inputs[1]"
   ]
  },
  {
   "cell_type": "code",
   "execution_count": 121,
   "id": "bd6d8aac-7966-4e00-8f2a-670bea2cdf6b",
   "metadata": {},
   "outputs": [
    {
     "name": "stdout",
     "output_type": "stream",
     "text": [
      "Training Data:\n",
      "[[0 0]\n",
      " [0 1]\n",
      " [1 0]\n",
      " [1 1]]\n",
      "Labels:\n",
      "[0 0 0 1]\n"
     ]
    }
   ],
   "source": [
    "training_data = np.array([[0, 0], [0, 1], [1, 0], [1, 1]])\n",
    "and_labels = np.array([0, 0, 0, 1]) \n",
    "print(\"Training Data:\")\n",
    "print(training_data)\n",
    "print(\"Labels:\")\n",
    "print(and_labels)"
   ]
  },
  {
   "cell_type": "code",
   "execution_count": 123,
   "id": "e83eb9a7-32a7-4d3c-b50c-c2a8d07f91fa",
   "metadata": {},
   "outputs": [],
   "source": [
    "train(training_data, and_labels)"
   ]
  },
  {
   "cell_type": "code",
   "execution_count": 125,
   "id": "79955a71-d321-43b5-9f8a-fa5a9cfca39e",
   "metadata": {},
   "outputs": [
    {
     "name": "stdout",
     "output_type": "stream",
     "text": [
      "AND Gate Predictions:\n",
      "[0 0] -> 0 (Expected: 0)\n",
      "[0 1] -> 0 (Expected: 0)\n",
      "[1 0] -> 0 (Expected: 0)\n",
      "[1 1] -> 1 (Expected: 1)\n"
     ]
    }
   ],
   "source": [
    "print(\"AND Gate Predictions:\")\n",
    "for inputs in training_data:\n",
    "    output = predict(inputs)\n",
    "    print(f\"{inputs} -> {output} (Expected: {and_labels[np.where((training_data == inputs).all(axis=1))[0][0]]})\")"
   ]
  },
  {
   "cell_type": "code",
   "execution_count": 127,
   "id": "2c0b36a4-2ddf-4e17-be6c-a77406125786",
   "metadata": {},
   "outputs": [
    {
     "name": "stdout",
     "output_type": "stream",
     "text": [
      "Final Weights:\n",
      "w0: -3, w1: 2, w2: 1\n"
     ]
    }
   ],
   "source": [
    "print(\"Final Weights:\")\n",
    "print(f\"w0: {w0}, w1: {w1}, w2: {w2}\")"
   ]
  },
  {
   "cell_type": "code",
   "execution_count": null,
   "id": "a562395b-0680-4610-bb75-aaaedca44e93",
   "metadata": {},
   "outputs": [],
   "source": []
  }
 ],
 "metadata": {
  "kernelspec": {
   "display_name": "Python 3 (ipykernel)",
   "language": "python",
   "name": "python3"
  },
  "language_info": {
   "codemirror_mode": {
    "name": "ipython",
    "version": 3
   },
   "file_extension": ".py",
   "mimetype": "text/x-python",
   "name": "python",
   "nbconvert_exporter": "python",
   "pygments_lexer": "ipython3",
   "version": "3.12.4"
  }
 },
 "nbformat": 4,
 "nbformat_minor": 5
}
